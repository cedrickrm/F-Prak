{
 "cells": [
  {
   "cell_type": "code",
   "execution_count": null,
   "metadata": {},
   "outputs": [],
   "source": [
    "import numpy as np\n",
    "import matplotlib.pyplot as plt\n",
    "from scipy.signal import find_peaks, savgol_filter\n",
    "from scipy.signal import peak_widths\n",
    "from matplotlib.gridspec import GridSpec\n",
    "import csv\n",
    "import os\n",
    "import ipympl\n",
    "import pprint\n",
    "\n",
    "class LaserData:\n",
    "    def __init__(self,path):\n",
    "        self.wavelenghts = np.array([229,233,237,241,245,249,253]) +780\n",
    "        with open(path) as file:\n",
    "            self.file = file\n",
    "            self.file = csv.reader(self.file, delimiter='\\t')\n",
    "            self.time =[]\n",
    "            self.piezo_voltage = []\n",
    "            self.fabry_perot = []\n",
    "            self.probe_laser = []\n",
    "            self.laser_voltage = []\n",
    "            for line in self.file:\n",
    "                self.time.append(float(line[0]))\n",
    "                self.piezo_voltage.append(float(line[1]))\n",
    "                self.fabry_perot.append(float(line[2]))\n",
    "                self.probe_laser.append(float(line[3]))\n",
    "                self.laser_voltage.append(float(line[4]))\n",
    "            self.time = np.array(self.time)\n",
    "            self.piezo_voltage = np.array(self.piezo_voltage)\n",
    "            self.fabry_perot = np.array(self.fabry_perot)\n",
    "            self.probe_laser = np.array(self.probe_laser)\n",
    "    \n",
    "    def plot(self,with_peaks = False):\n",
    "        fig = plt.figure(figsize=(11,6))\n",
    "        gs = GridSpec(8,5)\n",
    "        fig1 = fig.add_subplot(gs[:,:])\n",
    "        fig1.plot(self.piezo_voltage,self.fabry_perot,'-')\n",
    "        #fig1.plot(self.time,self.piezo_voltage)\n",
    "        if with_peaks:\n",
    "            peaks,_ = find_peaks(self.fabry_perot,prominence=0.3,height=0.8)\n",
    "            print(len(peaks))\n",
    "            for peak in peaks:\n",
    "                fig1.plot(self.piezo_voltage[peak],self.fabry_perot[peak],'go')\n",
    "        fig1.set_xlabel('Zeit in s',fontsize = 15)\n",
    "        fig1.set_ylabel('Spannung in V',fontsize = 15)\n",
    "\n",
    "    def slice_data(self, idx_start, idx_stop):\n",
    "        # deletes the data outside the given index_range\n",
    "        self.time = self.time[idx_start:idx_stop] - self.time[idx_start]\n",
    "        self.piezo_voltage = self.piezo_voltage[idx_start:idx_stop]\n",
    "        self.fabry_perot = self.fabry_perot[idx_start:idx_stop]\n",
    "        self.probe_laser = self.probe_laser[idx_start:idx_stop]\n",
    "        self.laser_voltage = self.laser_voltage[idx_start:idx_stop]\n",
    "\n",
    "    \n",
    "\n",
    "laser = LaserData('Data/spektrum_dopplerfrei_mit_pump_freq4.dat') "
   ]
  },
  {
   "cell_type": "code",
   "execution_count": null,
   "metadata": {},
   "outputs": [],
   "source": [
    "laser.plot(with_peaks=True)"
   ]
  },
  {
   "attachments": {},
   "cell_type": "markdown",
   "metadata": {},
   "source": []
  },
  {
   "attachments": {},
   "cell_type": "markdown",
   "metadata": {},
   "source": [
    "# Nicht dopplerfrei"
   ]
  },
  {
   "cell_type": "code",
   "execution_count": null,
   "metadata": {},
   "outputs": [],
   "source": [
    "#relevante files einlesen\n",
    "filenames = sorted([file for file in os.listdir('Data/') if file.__contains__('nicht_dopplerfrei_freq')])\n",
    "\n",
    "#new figure\n",
    "%matplotlib widget\n",
    "#plt.clf()\n",
    "fig, axes = plt.subplots(1, 2, figsize=(11,6))\n",
    "\n",
    "#Piezo-Spannungen für die händisch gemessenen Peaks (für absteigende Spannung)\n",
    "peaks_manuell_V = np.array([-13.2, -8.36, -2.67, 2.96, 8.70, 14.6])\n",
    "\n",
    "#korrespondierende Wellenlängen\n",
    "wavelengths_nm = np.array([229, 233, 237, 241, 245, 249]) * 10**(-3) + 780\n",
    "\n",
    "for file in filenames:\n",
    "    laser = LaserData('Data/'+file)\n",
    "\n",
    "    #starting time\n",
    "    idx_start = np.argmax(laser.piezo_voltage)\n",
    "    idx_stop  = np.argmin(laser.piezo_voltage)\n",
    "\n",
    "    t_start = laser.time[idx_start]\n",
    "    t_stop = laser.time[idx_stop]\n",
    "\n",
    "    period = 2 * (t_stop - t_start)\n",
    "\n",
    "    \n",
    "    laser.slice_data(idx_start, idx_stop)\n",
    "    #plt.plot(laser.piezo_voltage)\n",
    "    laser.piezo_voltage = savgol_filter(laser.piezo_voltage, 1000, 1)\n",
    "    \n",
    "    peaks,_ = find_peaks(laser.fabry_perot,prominence=0.3,height=0.8)\n",
    "    \n",
    "\n",
    "    ax = axes[0]\n",
    "    ax.plot(5 * laser.piezo_voltage, laser.fabry_perot, label=f'T={period:.3f} s')\n",
    "    for peak in peaks:\n",
    "        ax.plot(5 * laser.piezo_voltage[peak], laser.fabry_perot[peak],'go')\n",
    "\n",
    "    for i, peak in enumerate(peaks_manuell_V):\n",
    "        ax.plot(np.array([peak, peak]), [0.2, 1.4],'--', color='black', linewidth=1)\n",
    "    \n",
    "    ax = axes[1]\n",
    "\n",
    "    \n",
    "    ax.scatter(5 * np.sort(laser.piezo_voltage[peaks])[::-1], wavelengths_nm[1::], marker='x', label=f'T={period:.3f} s')\n",
    "\n",
    "\n",
    "    pprint.pprint(5 * np.sort(laser.piezo_voltage[peaks]))\n",
    "    pprint.pprint(wavelengths_nm)\n",
    "\n",
    "    ax.legend()\n",
    "    ax.set_xlabel('Piezospannung in V')\n",
    "    ax.set_ylabel('Fabry-Perot-Spannung in V')\n",
    "    #laser.plot(with_peaks=True)\n"
   ]
  },
  {
   "cell_type": "code",
   "execution_count": null,
   "metadata": {},
   "outputs": [],
   "source": []
  },
  {
   "attachments": {},
   "cell_type": "markdown",
   "metadata": {},
   "source": [
    "# Dopplerfrei"
   ]
  },
  {
   "attachments": {},
   "cell_type": "markdown",
   "metadata": {},
   "source": []
  }
 ],
 "metadata": {
  "kernelspec": {
   "display_name": "base",
   "language": "python",
   "name": "python3"
  },
  "language_info": {
   "codemirror_mode": {
    "name": "ipython",
    "version": 3
   },
   "file_extension": ".py",
   "mimetype": "text/x-python",
   "name": "python",
   "nbconvert_exporter": "python",
   "pygments_lexer": "ipython3",
   "version": "3.8.10"
  }
 },
 "nbformat": 4,
 "nbformat_minor": 2
}
