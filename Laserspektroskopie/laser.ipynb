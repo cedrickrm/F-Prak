{
 "cells": [
  {
   "cell_type": "code",
   "execution_count": null,
   "metadata": {},
   "outputs": [],
   "source": [
    "import numpy as np\n",
    "import matplotlib.pyplot as plt\n",
    "from scipy.signal import find_peaks\n",
    "from scipy.signal import peak_widths\n",
    "from matplotlib.gridspec import GridSpec\n",
    "import csv\n",
    "import os\n",
    "\n",
    "class LaserData:\n",
    "    def __init__(self,path):\n",
    "        self.wavelenghts = np.array([229,233,237,241,245,249,253]) +780\n",
    "        self.file = open(path)\n",
    "        self.file = csv.reader(self.file, delimiter='\\t')\n",
    "        self.time =[]\n",
    "        self.piezo_voltage = []\n",
    "        self.fabry_perot = []\n",
    "        self.probe_laser = []\n",
    "        for line in self.file:\n",
    "            self.time.append(float(line[0]))\n",
    "            self.piezo_voltage.append(float(line[1]))\n",
    "            self.fabry_perot.append(float(line[2]))\n",
    "            self.probe_laser.append(float(line[3]))\n",
    "        self.time = np.array(self.time)\n",
    "        self.piezo_voltage = np.array(self.piezo_voltage)\n",
    "        self.fabry_perot = np.array(self.fabry_perot)\n",
    "        self.probe_laser = np.array(self.probe_laser)\n",
    "    \n",
    "    def plot(self,with_peaks = False):\n",
    "        fig = plt.figure(figsize=(11,6))\n",
    "        gs = GridSpec(8,5)\n",
    "        fig1 = fig.add_subplot(gs[:,:])\n",
    "        fig1.plot(self.piezo_voltage,self.fabry_perot,'-')\n",
    "        #fig1.plot(self.time,self.piezo_voltage)\n",
    "        if with_peaks:\n",
    "            peaks,_ = find_peaks(self.fabry_perot,prominence=0.3,height=0.8)\n",
    "            print(len(peaks))\n",
    "            for peak in peaks:\n",
    "                fig1.plot(self.piezo_voltage[peak],self.fabry_perot[peak],'go')\n",
    "        fig1.set_xlabel('Zeit in s',fontsize = 15)\n",
    "        fig1.set_ylabel('Spannung in V',fontsize = 15)\n",
    "laser = LaserData('Data/spektrum_dopplerfrei_mit_pump_freq6.dat') "
   ]
  },
  {
   "cell_type": "code",
   "execution_count": null,
   "metadata": {},
   "outputs": [],
   "source": [
    "laser.plot(with_peaks=True)"
   ]
  },
  {
   "cell_type": "code",
   "execution_count": null,
   "metadata": {},
   "outputs": [],
   "source": []
  }
 ],
 "metadata": {
  "kernelspec": {
   "display_name": "base",
   "language": "python",
   "name": "python3"
  },
  "language_info": {
   "codemirror_mode": {
    "name": "ipython",
    "version": 3
   },
   "file_extension": ".py",
   "mimetype": "text/x-python",
   "name": "python",
   "nbconvert_exporter": "python",
   "pygments_lexer": "ipython3",
   "version": "3.9.12"
  },
  "orig_nbformat": 4
 },
 "nbformat": 4,
 "nbformat_minor": 2
}
