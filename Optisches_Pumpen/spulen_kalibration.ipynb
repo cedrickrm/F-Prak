{
 "cells": [
  {
   "cell_type": "code",
   "execution_count": null,
   "metadata": {},
   "outputs": [],
   "source": [
    "import numpy as np\n",
    "import matplotlib.pyplot as plt\n",
    "\n",
    "\n",
    "spannung = np.array([79.6,102.5,128.0,300,527,940,1030,1334,1505,1707,1909,2195,2520,2680,2905,3080,3300,3440,3708,3914,4030,4450,4640,4880,5090])\n",
    "strom = np.array([0.04,0.06,0.07,0.21,0.35,0.56,0.64,0.79,0.92,1.02,1.15,1.25,1.5,1.59,1.73,1.84,1.95,2.03,2.19,2.30,2.38,2.45,2.7,2.84,2.84])\n",
    "\n",
    "fit,_ = np.polyfit(strom,spannung, deg = 1,cov =True)\n",
    "a = fit[0]\n",
    "b = fit[1]\n",
    "print(a)\n",
    "yseq = a*strom +b\n",
    "plt.plot(strom, spannung,'+')\n",
    "plt.plot(strom,yseq)\n",
    "plt.xlabel('Strom in A')\n",
    "plt.ylabel('Spannung in mV')"
   ]
  }
 ],
 "metadata": {
  "language_info": {
   "name": "python"
  },
  "orig_nbformat": 4
 },
 "nbformat": 4,
 "nbformat_minor": 2
}
