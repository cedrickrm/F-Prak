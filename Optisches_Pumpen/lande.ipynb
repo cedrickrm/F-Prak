{
 "cells": [
  {
   "cell_type": "code",
   "execution_count": 23,
   "metadata": {},
   "outputs": [
    {
     "name": "stdout",
     "output_type": "stream",
     "text": [
      "2.1856619117710131e-10\n",
      "g=0.32688978977768546\n",
      "dg=0.0025249979861662365\n"
     ]
    },
    {
     "data": {
      "text/plain": [
       "<matplotlib.legend.Legend at 0x2e362f5c4f0>"
      ]
     },
     "execution_count": 23,
     "metadata": {},
     "output_type": "execute_result"
    },
    {
     "data": {
      "image/png": "[encoded data removed]",
      "text/plain": [
       "<Figure size 432x288 with 1 Axes>"
      ]
     },
     "metadata": {
      "needs_background": "light"
     },
     "output_type": "display_data"
    }
   ],
   "source": [
    "import numpy as np\n",
    "import matplotlib.pyplot as plt\n",
    "from scipy.signal import find_peaks\n",
    "from scipy.signal import peak_widths\n",
    "from matplotlib.gridspec import GridSpec\n",
    "import csv\n",
    "\n",
    "class LandeFaktor:\n",
    "    def __init__(self,path):\n",
    "        self.path = path\n",
    "        self.file = open(self.path)\n",
    "        self.file = csv.reader(self.file,delimiter='\\t')\n",
    "        self.time = []\n",
    "        self.channel1 = []\n",
    "        self.channel2 =[]\n",
    "        for line in self.file:\n",
    "            self.time.append(float(line[0]))\n",
    "            self.channel1.append(float(line[1]))\n",
    "            self.channel2.append(float(line[2]))\n",
    "        self.time = np.array(self.time)\n",
    "        self.time_phase = self.time \n",
    "        self.channel1 = np.array(self.channel1) \n",
    "        self.channel2= np.array(self.channel2)\n",
    "\n",
    "    def findpeaksauto(self):\n",
    "        peaks = find_peaks(-self.channel2,prominence=0.0019,distance=5)\n",
    "        return peaks[0]\n",
    "\n",
    "    def give_current(self,peaks):\n",
    "        widerstand = 1.745 + 0.05\n",
    "        return self.channel1[peaks-26] / widerstand\n",
    "\n",
    "    def get_b(self,errors=[]):\n",
    "        current = self.give_current(self.findpeaksauto())\n",
    "        mu0 = 1.256637061e-6\n",
    "        N = 80\n",
    "        r = 0.09\n",
    "        B = mu0*(4/5)**(3/2) * N/r * current\n",
    "        return B\n",
    "\n",
    "    def plotwithpeaks(self,peaks,findpeaks = False):\n",
    "        if findpeaks:\n",
    "            peaks,_ = self.findpeaksauto()\n",
    "        fig = plt.figure(figsize=(11,6))\n",
    "        gs = GridSpec(8,5)\n",
    "        fig1 = fig.add_subplot(gs[:,:])\n",
    "        fig1.set_title(str(self.path)[31:], fontsize = 15)\n",
    "\n",
    "        fig1.set_xlabel('Zeit in s',fontsize = 15)\n",
    "        fig1.set_ylabel(r'Spannung $U_{HH}$ in V',color = 'r', fontsize = 15)\n",
    "        fig1.tick_params(axis='y',labelcolor='r')\n",
    "        fig1.plot(self.time_phase, self.channel1,'r-', label = 'Channel 1')\n",
    "        fig1.grid(True)\n",
    "\n",
    "        fig2 = fig1.twinx()\n",
    "        fig2.set_ylabel(r'Spannung  $U_{RF}$ in V',color='g',fontsize=15)\n",
    "        fig2.tick_params(axis='y',labelcolor = 'g')\n",
    "        fig2.plot(self.time,self.channel2,'g',label='Channel 2')\n",
    "        for peak in peaks:\n",
    "            plt.plot(self.time[peak],self.channel2[peak],'bo')\n",
    "\n",
    "lande2500 = LandeFaktor('230508_OptischesPumpen/Resonanz2500kHz')\n",
    "#print(lande2500.getpeakwidth())\n",
    "peaks = [988,1076,1423,1512]\n",
    "#lande2500.plotwithpeaks(peaks,findpeaks=True)\n",
    "#print(lande2500.get_b(lande2500.findpeaksauto()))\n",
    "\n",
    "#'''\n",
    "dateien = np.arange(500,8000,500)\n",
    "Ru85 = []\n",
    "Ru185 = []\n",
    "Ru87 =[]\n",
    "Ru187=[]\n",
    "for datei in dateien:\n",
    "    lande = LandeFaktor('230508_OptischesPumpen/Resonanz'+str(datei)+'kHz')\n",
    "    b_peaks = lande.get_b()\n",
    "    Ru85.append(b_peaks[1])\n",
    "    Ru185.append(b_peaks[-2])\n",
    "    Ru87.append(b_peaks[2])\n",
    "    Ru187.append(b_peaks[-3])\n",
    "plt.plot(dateien*1000,Ru85,'d',label='Ru85')\n",
    "plt.plot(dateien*1000,Ru87,'o',label='Ru87')\n",
    "plt.plot(dateien*1000,Ru185,'d',label='Ru85_1')\n",
    "plt.plot(dateien*1000,Ru187,'o',label='Ru87_1')\n",
    "plt.xlabel('Frequenz in Hz')\n",
    "plt.ylabel('Magnetfel in T')\n",
    "\n",
    "fit,err = np.polyfit(dateien*1000,Ru185,deg=1,cov = True)\n",
    "da = np.sqrt(err[0,0])\n",
    "a = fit[0]\n",
    "b=fit[1]\n",
    "print(a)\n",
    "h = 6.626e-34\n",
    "mub = 9.274e-24\n",
    "print('g='+str(h/(mub*a)))\n",
    "print('dg='+str(h*da/(mub*a**2)))\n",
    "yseq = a*dateien*1000+b\n",
    "plt.plot(dateien*1000,yseq)\n",
    "plt.legend()\n",
    "#'''\n",
    "#plt.xlim(0.475,0.525)\n"
   ]
  },
  {
   "cell_type": "code",
   "execution_count": 6,
   "metadata": {},
   "outputs": [
    {
     "data": {
      "text/plain": [
       "array([1.01, 2.01, 3.01, 4.01])"
      ]
     },
     "execution_count": 6,
     "metadata": {},
     "output_type": "execute_result"
    }
   ],
   "source": [
    "np.array([1,2,3,4])+0.01"
   ]
  }
 ],
 "metadata": {
  "kernelspec": {
   "display_name": "Python 3",
   "language": "python",
   "name": "python3"
  },
  "language_info": {
   "codemirror_mode": {
    "name": "ipython",
    "version": 3
   },
   "file_extension": ".py",
   "mimetype": "text/x-python",
   "name": "python",
   "nbconvert_exporter": "python",
   "pygments_lexer": "ipython3",
   "version": "3.9.12"
  },
  "orig_nbformat": 4
 },
 "nbformat": 4,
 "nbformat_minor": 2
}
